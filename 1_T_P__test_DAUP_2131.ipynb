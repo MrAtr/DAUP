{
  "nbformat": 4,
  "nbformat_minor": 0,
  "metadata": {
    "colab": {
      "provenance": []
    },
    "kernelspec": {
      "name": "python3",
      "display_name": "Python 3"
    },
    "language_info": {
      "name": "python"
    }
  },
  "cells": [
    {
      "cell_type": "code",
      "execution_count": 1,
      "metadata": {
        "colab": {
          "base_uri": "https://localhost:8080/"
        },
        "id": "JkErDvXUrFn0",
        "outputId": "7b51edd5-9f69-402d-a221-fd09e0c65828"
      },
      "outputs": [
        {
          "output_type": "stream",
          "name": "stdout",
          "text": [
            "<class 'pandas.core.frame.DataFrame'>\n",
            "RangeIndex: 760 entries, 0 to 759\n",
            "Data columns (total 20 columns):\n",
            " #   Column                              Non-Null Count  Dtype \n",
            "---  ------                              --------------  ----- \n",
            " 0   Student ID                          760 non-null    object\n",
            " 1   Age                                 760 non-null    int64 \n",
            " 2   Gender                              760 non-null    object\n",
            " 3   Academic Performance (GPA)          760 non-null    int64 \n",
            " 4   Study Hours Per Week                760 non-null    int64 \n",
            " 5   Social Media Usage (Hours per day)  760 non-null    int64 \n",
            " 6   Sleep Duration (Hours per night)    760 non-null    int64 \n",
            " 7   Physical Exercise (Hours per week)  760 non-null    int64 \n",
            " 8   Family Support                      760 non-null    int64 \n",
            " 9   Financial Stress                    760 non-null    int64 \n",
            " 10  Peer Pressure                       760 non-null    int64 \n",
            " 11  Relationship Stress                 760 non-null    int64 \n",
            " 12  Mental Stress Level                 760 non-null    int64 \n",
            " 13  Counseling Attendance               760 non-null    object\n",
            " 14  Diet Quality                        760 non-null    int64 \n",
            " 15  Stress Coping Mechanisms            760 non-null    object\n",
            " 16  Cognitive Distortions               760 non-null    int64 \n",
            " 17  Family Mental Health History        760 non-null    object\n",
            " 18  Medical Condition                   760 non-null    object\n",
            " 19  Substance Use                       760 non-null    int64 \n",
            "dtypes: int64(14), object(6)\n",
            "memory usage: 118.9+ KB\n",
            "None\n",
            "    Student ID  Age  Gender  Academic Performance (GPA)  Study Hours Per Week  \\\n",
            "0  802-17-3671   22  Female                           2                     9   \n",
            "1  871-12-8572   25  Female                           0                    28   \n",
            "2  495-13-2672   24  Female                           0                    45   \n",
            "3  365-77-2496   20    Male                           2                     8   \n",
            "4  664-76-5622   28    Male                           0                    14   \n",
            "\n",
            "   Social Media Usage (Hours per day)  Sleep Duration (Hours per night)  \\\n",
            "0                                   2                                12   \n",
            "1                                   0                                 6   \n",
            "2                                   3                                12   \n",
            "3                                   7                                 7   \n",
            "4                                   6                                 8   \n",
            "\n",
            "   Physical Exercise (Hours per week)  Family Support    Financial Stress  \\\n",
            "0                                   2                 1                 1   \n",
            "1                                   0                 1                 1   \n",
            "2                                  10                 3                 3   \n",
            "3                                   4                 1                 3   \n",
            "4                                   1                 2                 4   \n",
            "\n",
            "   Peer Pressure  Relationship Stress  Mental Stress Level  \\\n",
            "0              3                    5                    9   \n",
            "1              1                    2                    9   \n",
            "2              1                    4                    9   \n",
            "3              2                    5                    1   \n",
            "4              4                    2                    7   \n",
            "\n",
            "  Counseling Attendance  Diet Quality Stress Coping Mechanisms  \\\n",
            "0                    No             1  Walking or Nature Walks   \n",
            "1                   Yes             3               Meditation   \n",
            "2                   Yes             5                  Reading   \n",
            "3                    No             1  Social Media Engagement   \n",
            "4                   Yes             1                 Exercise   \n",
            "\n",
            "   Cognitive Distortions Family Mental Health History Medical Condition  \\\n",
            "0                      4                           No               Yes   \n",
            "1                      2                          Yes                No   \n",
            "2                      1                          Yes               Yes   \n",
            "3                      2                          Yes                No   \n",
            "4                      1                          Yes                No   \n",
            "\n",
            "   Substance Use  \n",
            "0              1  \n",
            "1              1  \n",
            "2              3  \n",
            "3              4  \n",
            "4              3  \n"
          ]
        }
      ],
      "source": [
        "import pandas as pd\n",
        "\n",
        "# Load the dataset\n",
        "file_path = \"/content/Student_Mental_Stress_and_Coping_Mechanisms.csv\"\n",
        "df = pd.read_csv(file_path)\n",
        "\n",
        "# Display basic information\n",
        "print(df.info())\n",
        "\n",
        "# Show the first few rows\n",
        "print(df.head())\n"
      ]
    },
    {
      "cell_type": "code",
      "source": [
        "from sklearn.preprocessing import LabelEncoder\n",
        "\n",
        "# Identify categorical columns\n",
        "categorical_cols = ['Gender', 'Counseling Attendance', 'Stress Coping Mechanisms',\n",
        "                    'Family Mental Health History', 'Medical Condition']\n",
        "\n",
        "# Encode categorical variables\n",
        "label_encoders = {}\n",
        "for col in categorical_cols:\n",
        "    le = LabelEncoder()\n",
        "    df[col] = le.fit_transform(df[col])  # Convert categories to numbers\n",
        "    label_encoders[col] = le\n",
        "\n",
        "# Now split dataset again\n",
        "X = df.drop(columns=['Mental Stress Level'])  # Features\n",
        "y = df['Mental Stress Level']  # Target variable\n",
        "\n",
        "# Train-test split\n",
        "from sklearn.model_selection import train_test_split\n",
        "X_train, X_test, y_train, y_test = train_test_split(X, y, test_size=0.2, random_state=42)\n",
        "\n",
        "\n",
        "from sklearn.linear_model import LogisticRegression\n",
        "from sklearn.ensemble import RandomForestClassifier\n",
        "from sklearn.svm import SVC\n",
        "from sklearn.metrics import accuracy_score, precision_score, recall_score, f1_score\n",
        "\n",
        "# Check unique values in the target variable\n",
        "print(\"Unique values in target (Mental Stress Level):\", y_train.nunique())\n",
        "\n",
        "# If it's multi-class, set the right parameters for Logistic Regression\n",
        "if y_train.nunique() > 2:\n",
        "    log_reg = LogisticRegression(multi_class='multinomial', solver='lbfgs', max_iter=500)\n",
        "else:\n",
        "    log_reg = LogisticRegression()\n",
        "\n",
        "# Train Logistic Regression\n",
        "log_reg.fit(X_train, y_train)\n",
        "y_pred_log = log_reg.predict(X_test)\n",
        "\n",
        "# Train Random Forest Classifier\n",
        "rf_clf = RandomForestClassifier(n_estimators=100, random_state=42)\n",
        "rf_clf.fit(X_train, y_train)\n",
        "y_pred_rf = rf_clf.predict(X_test)\n",
        "\n",
        "# Train Support Vector Machine (SVM)\n",
        "svm_clf = SVC()\n",
        "svm_clf.fit(X_train, y_train)\n",
        "y_pred_svm = svm_clf.predict(X_test)\n",
        "\n",
        "# Model Evaluation Function\n",
        "def evaluate_model(y_test, y_pred, model_name):\n",
        "    print(f\"\\n{model_name} Performance:\")\n",
        "    print(f\"Accuracy: {accuracy_score(y_test, y_pred):.4f}\")\n",
        "    print(f\"Precision: {precision_score(y_test, y_pred, average='weighted'):.4f}\")\n",
        "    print(f\"Recall: {recall_score(y_test, y_pred, average='weighted'):.4f}\")\n",
        "    print(f\"F1 Score: {f1_score(y_test, y_pred, average='weighted'):.4f}\")\n",
        "\n",
        "# Evaluate each model\n",
        "evaluate_model(y_test, y_pred_log, \"Logistic Regression\")\n",
        "evaluate_model(y_test, y_pred_rf, \"Random Forest\")\n",
        "evaluate_model(y_test, y_pred_svm, \"SVM\")\n",
        "\n"
      ],
      "metadata": {
        "colab": {
          "base_uri": "https://localhost:8080/"
        },
        "id": "YE_svaXOsAuX",
        "outputId": "45b8443c-d02a-43bf-c81f-4fec8aa94e68"
      },
      "execution_count": 12,
      "outputs": [
        {
          "output_type": "stream",
          "name": "stdout",
          "text": [
            "Unique values in target (Mental Stress Level): 10\n"
          ]
        },
        {
          "output_type": "stream",
          "name": "stderr",
          "text": [
            "/usr/local/lib/python3.11/dist-packages/sklearn/linear_model/_logistic.py:1247: FutureWarning: 'multi_class' was deprecated in version 1.5 and will be removed in 1.7. From then on, it will always use 'multinomial'. Leave it to its default value to avoid this warning.\n",
            "  warnings.warn(\n",
            "/usr/local/lib/python3.11/dist-packages/sklearn/linear_model/_logistic.py:465: ConvergenceWarning: lbfgs failed to converge (status=1):\n",
            "STOP: TOTAL NO. of ITERATIONS REACHED LIMIT.\n",
            "\n",
            "Increase the number of iterations (max_iter) or scale the data as shown in:\n",
            "    https://scikit-learn.org/stable/modules/preprocessing.html\n",
            "Please also refer to the documentation for alternative solver options:\n",
            "    https://scikit-learn.org/stable/modules/linear_model.html#logistic-regression\n",
            "  n_iter_i = _check_optimize_result(\n"
          ]
        },
        {
          "output_type": "stream",
          "name": "stdout",
          "text": [
            "\n",
            "Logistic Regression Performance:\n",
            "Accuracy: 0.0526\n",
            "Precision: 0.0519\n",
            "Recall: 0.0526\n",
            "F1 Score: 0.0516\n",
            "\n",
            "Random Forest Performance:\n",
            "Accuracy: 0.0987\n",
            "Precision: 0.1090\n",
            "Recall: 0.0987\n",
            "F1 Score: 0.1005\n",
            "\n",
            "SVM Performance:\n",
            "Accuracy: 0.1118\n",
            "Precision: 0.0242\n",
            "Recall: 0.1118\n",
            "F1 Score: 0.0398\n"
          ]
        },
        {
          "output_type": "stream",
          "name": "stderr",
          "text": [
            "/usr/local/lib/python3.11/dist-packages/sklearn/metrics/_classification.py:1565: UndefinedMetricWarning: Precision is ill-defined and being set to 0.0 in labels with no predicted samples. Use `zero_division` parameter to control this behavior.\n",
            "  _warn_prf(average, modifier, f\"{metric.capitalize()} is\", len(result))\n"
          ]
        }
      ]
    },
    {
      "cell_type": "code",
      "source": [
        "import numpy as np\n",
        "\n",
        "# Get feature importances from Random Forest\n",
        "feature_importances = rf_clf.feature_importances_\n",
        "features = X.columns\n",
        "sorted_indices = np.argsort(feature_importances)[::-1]\n",
        "\n",
        "# Display top 3 features\n",
        "print(\"\\nTop 3 Important Features:\")\n",
        "for i in range(3):\n",
        "    print(f\"{features[sorted_indices[i]]}: {feature_importances[sorted_indices[i]]:.4f}\")\n"
      ],
      "metadata": {
        "colab": {
          "base_uri": "https://localhost:8080/"
        },
        "id": "cwGkfkS8zTxO",
        "outputId": "e711c277-baa2-4371-ec00-097117743478"
      },
      "execution_count": 13,
      "outputs": [
        {
          "output_type": "stream",
          "name": "stdout",
          "text": [
            "\n",
            "Top 3 Important Features:\n",
            "Student ID: 0.0909\n",
            "Study Hours Per Week: 0.0908\n",
            "Age: 0.0695\n"
          ]
        }
      ]
    },
    {
      "cell_type": "code",
      "source": [
        "from sklearn.decomposition import PCA\n",
        "\n",
        "# Apply PCA\n",
        "pca = PCA(n_components=2)\n",
        "X_pca = pca.fit_transform(X)\n",
        "\n",
        "# Explained variance\n",
        "print(\"\\nExplained Variance Ratio:\", pca.explained_variance_ratio_)\n"
      ],
      "metadata": {
        "colab": {
          "base_uri": "https://localhost:8080/"
        },
        "id": "Z8pcx5ELzXCW",
        "outputId": "56ac4686-88af-4625-b8c1-6b1168b4d039"
      },
      "execution_count": 14,
      "outputs": [
        {
          "output_type": "stream",
          "name": "stdout",
          "text": [
            "\n",
            "Explained Variance Ratio: [0.99196641 0.00669523]\n"
          ]
        }
      ]
    },
    {
      "cell_type": "code",
      "source": [
        "from scipy.stats import ttest_1samp\n",
        "\n",
        "# Hypothesis: Mean Mental Stress Level is 5\n",
        "t_stat, p_value = ttest_1samp(y, 5)\n",
        "\n",
        "print(\"\\nT-test Results:\")\n",
        "print(f\"T-statistic: {t_stat:.4f}, P-value: {p_value:.4f}\")\n",
        "\n",
        "if p_value < 0.05:\n",
        "    print(\"Reject the null hypothesis: The mean stress level is significantly different from 5.\")\n",
        "else:\n",
        "    print(\"Fail to reject the null hypothesis: No significant difference from 5.\")\n"
      ],
      "metadata": {
        "colab": {
          "base_uri": "https://localhost:8080/"
        },
        "id": "ofSf0c-Ozby2",
        "outputId": "85d41402-88c2-47ef-8258-24309eaac8bf"
      },
      "execution_count": 15,
      "outputs": [
        {
          "output_type": "stream",
          "name": "stdout",
          "text": [
            "\n",
            "T-test Results:\n",
            "T-statistic: 3.4489, P-value: 0.0006\n",
            "Reject the null hypothesis: The mean stress level is significantly different from 5.\n"
          ]
        }
      ]
    },
    {
      "cell_type": "code",
      "source": [
        "from statsmodels.stats.weightstats import ztest\n",
        "\n",
        "# Compare study hours of students who attended vs. did not attend counseling\n",
        "attended = df[df['Counseling Attendance'] == 1]['Study Hours Per Week']\n",
        "not_attended = df[df['Counseling Attendance'] == 0]['Study Hours Per Week']\n",
        "\n",
        "z_stat, p_val = ztest(attended, not_attended)\n",
        "\n",
        "print(\"\\nZ-test Results:\")\n",
        "print(f\"Z-statistic: {z_stat:.4f}, P-value: {p_val:.4f}\")\n",
        "\n",
        "if p_val < 0.05:\n",
        "    print(\"Significant difference in study hours between students who attended and did not attend counseling.\")\n",
        "else:\n",
        "    print(\"No significant difference in study hours.\")\n"
      ],
      "metadata": {
        "colab": {
          "base_uri": "https://localhost:8080/"
        },
        "id": "KZ36-2PvzfqX",
        "outputId": "a34ec2b8-65c8-425b-a5df-c10d698ce90c"
      },
      "execution_count": 16,
      "outputs": [
        {
          "output_type": "stream",
          "name": "stdout",
          "text": [
            "\n",
            "Z-test Results:\n",
            "Z-statistic: 1.1762, P-value: 0.2395\n",
            "No significant difference in study hours.\n"
          ]
        }
      ]
    },
    {
      "cell_type": "code",
      "source": [
        "from scipy.stats import chi2_contingency\n",
        "\n",
        "# Create contingency table\n",
        "contingency_table = pd.crosstab(df['Gender'], df['Counseling Attendance'])\n",
        "\n",
        "# Perform Chi-Square test\n",
        "chi2_stat, p_chi, dof, expected = chi2_contingency(contingency_table)\n",
        "\n",
        "print(\"\\nChi-Square Test Results:\")\n",
        "print(f\"Chi-Square Statistic: {chi2_stat:.4f}, P-value: {p_chi:.4f}\")\n",
        "\n",
        "if p_chi < 0.05:\n",
        "    print(\"There is a significant relationship between gender and counseling attendance.\")\n",
        "else:\n",
        "    print(\"No significant relationship between gender and counseling attendance.\")\n"
      ],
      "metadata": {
        "colab": {
          "base_uri": "https://localhost:8080/"
        },
        "id": "w8OSaROKziyX",
        "outputId": "3f694f5a-52f7-4b9e-cd30-c11b758ca7b7"
      },
      "execution_count": 17,
      "outputs": [
        {
          "output_type": "stream",
          "name": "stdout",
          "text": [
            "\n",
            "Chi-Square Test Results:\n",
            "Chi-Square Statistic: 8.9103, P-value: 0.2592\n",
            "No significant relationship between gender and counseling attendance.\n"
          ]
        }
      ]
    }
  ]
}